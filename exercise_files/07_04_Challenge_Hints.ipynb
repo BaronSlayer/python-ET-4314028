{
 "cells": [
  {
   "cell_type": "markdown",
   "id": "dda9c8c6",
   "metadata": {},
   "source": [
    "## Shaping Up"
   ]
  },
  {
   "cell_type": "markdown",
   "id": "f4a633c4",
   "metadata": {},
   "source": [
    "**Hint 1:** \n",
    "In the square class, the printRow function takes in an argument i, which is not used. What happens if you actually use this argument?"
   ]
  },
  {
   "cell_type": "markdown",
   "id": "0a4e8a12",
   "metadata": {},
   "source": [
    "**Hint 2:** Triangles are small at the top and big at the bottom! (Huge help, I know.) \n",
    "\n",
    "But think about it. How can you use the variable i to print out something small at the top and big at the bottom? Or, heck, make an upside-down triangle! Print out something big at the top and small at the bottom. "
   ]
  },
  {
   "cell_type": "code",
   "execution_count": 8,
   "id": "13e2779f",
   "metadata": {},
   "outputs": [
    {
     "name": "stdout",
     "output_type": "stream",
     "text": [
      "#####\n",
      "#####\n",
      "#####\n",
      "#####\n",
      "#####\n",
      "    #\n",
      "   ###\n",
      "  #####\n",
      " #######\n",
      "#########\n"
     ]
    }
   ],
   "source": [
    "class Shape:\n",
    "    width = 5\n",
    "    height = 5\n",
    "    char_to_print = '#'\n",
    "\n",
    "    def printRow(self, i):\n",
    "        raise NotImplementedError(\"Will be implemented in the subclass\")\n",
    "\n",
    "    def print(self):\n",
    "        for i in range(self.height):\n",
    "            self.printRow(i)\n",
    "\n",
    "class Square(Shape):\n",
    "    def printRow(self, i):\n",
    "        print(self.char_to_print * self.width)\n",
    "\n",
    "class Triangle(Shape):\n",
    "    # right triangle\n",
    "    # def printRow(self, i):\n",
    "    #     print(self.char_to_print * (i + 1))\n",
    "\n",
    "    # equilateral triangle\n",
    "    def printRow(self, i):\n",
    "        print(' ' * (self.height - i - 1) + self.char_to_print * (2 * i + 1))\n",
    "\n",
    "\n",
    "s = Square()\n",
    "s.print()\n",
    "\n",
    "t = Triangle()\n",
    "t.print()"
   ]
  }
 ],
 "metadata": {
  "kernelspec": {
   "display_name": "Python 3 (ipykernel)",
   "language": "python",
   "name": "python3"
  },
  "language_info": {
   "codemirror_mode": {
    "name": "ipython",
    "version": 3
   },
   "file_extension": ".py",
   "mimetype": "text/x-python",
   "name": "python",
   "nbconvert_exporter": "python",
   "pygments_lexer": "ipython3",
   "version": "3.12.4"
  },
  "vscode": {
   "interpreter": {
    "hash": "949777d72b0d2535278d3dc13498b2535136f6dfe0678499012e853ee9abcab1"
   }
  }
 },
 "nbformat": 4,
 "nbformat_minor": 5
}
