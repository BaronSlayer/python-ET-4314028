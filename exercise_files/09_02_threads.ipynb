{
 "cells": [
  {
   "cell_type": "code",
   "execution_count": 1,
   "id": "48a15793",
   "metadata": {
    "scrolled": true
   },
   "outputs": [],
   "source": [
    "import threading\n",
    "import time"
   ]
  },
  {
   "cell_type": "markdown",
   "id": "5be113b0",
   "metadata": {},
   "source": [
    "## Threads"
   ]
  },
  {
   "cell_type": "code",
   "execution_count": 2,
   "id": "230c796a",
   "metadata": {
    "scrolled": true
   },
   "outputs": [
    {
     "data": {
      "text/plain": [
       "[0, 1, 4, 9, 16]"
      ]
     },
     "execution_count": 2,
     "metadata": {},
     "output_type": "execute_result"
    }
   ],
   "source": [
    "def longSquare(num):\n",
    "    time.sleep(1)\n",
    "    return num**2\n",
    "\n",
    "[longSquare(n) for n in range(0, 5)]\n"
   ]
  },
  {
   "cell_type": "code",
   "execution_count": 3,
   "id": "f105891d",
   "metadata": {},
   "outputs": [],
   "source": [
    "t1 = threading.Thread(target=longSquare, args=(1,))\n",
    "t2 = threading.Thread(target=longSquare, args=(2,))\n",
    "\n",
    "t1.start()\n",
    "t2.start()\n",
    "\n",
    "t1.join()\n",
    "t2.join()\n"
   ]
  },
  {
   "cell_type": "code",
   "execution_count": 3,
   "id": "5be33021",
   "metadata": {},
   "outputs": [
    {
     "name": "stdout",
     "output_type": "stream",
     "text": [
      "{1: 1, 2: 4}\n"
     ]
    }
   ],
   "source": [
    "\n",
    "\n",
    "def longSquare(num, results):\n",
    "    time.sleep(1)\n",
    "    results[num] = num**2\n",
    "\n",
    "results = {}\n",
    "t1 = threading.Thread(target=longSquare, args=(1,results))\n",
    "t2 = threading.Thread(target=longSquare, args=(2,results))\n",
    "\n",
    "t1.start()\n",
    "t2.start()\n",
    "\n",
    "t1.join()\n",
    "t2.join()\n",
    "\n",
    "print(results)\n"
   ]
  },
  {
   "cell_type": "code",
   "execution_count": 4,
   "id": "6f9a6201",
   "metadata": {},
   "outputs": [
    {
     "name": "stdout",
     "output_type": "stream",
     "text": [
      "{0: 0, 34: 1156, 24: 576, 12: 144, 22: 484, 16: 256, 8: 64, 21: 441, 23: 529, 1: 1, 46: 2116, 35: 1225, 36: 1296, 3: 9, 7: 49, 37: 1369, 15: 225, 52: 2704, 53: 2809, 54: 2916, 31: 961, 55: 3025, 33: 1089, 27: 729, 39: 1521, 2: 4, 26: 676, 13: 169, 19: 361, 40: 1600, 61: 3721, 14: 196, 29: 841, 28: 784, 41: 1681, 4: 16, 32: 1024, 10: 100, 17: 289, 18: 324, 11: 121, 5: 25, 69: 4761, 70: 4900, 45: 2025, 44: 1936, 42: 1764, 47: 2209, 50: 2500, 49: 2401, 48: 2304, 51: 2601, 9: 81, 38: 1444, 6: 36, 56: 3136, 57: 3249, 58: 3364, 59: 3481, 60: 3600, 80: 6400, 62: 3844, 63: 3969, 65: 4225, 20: 400, 68: 4624, 64: 4096, 67: 4489, 43: 1849, 71: 5041, 72: 5184, 73: 5329, 30: 900, 74: 5476, 75: 5625, 77: 5929, 76: 5776, 25: 625, 79: 6241, 82: 6724, 78: 6084, 83: 6889, 84: 7056, 66: 4356, 81: 6561, 85: 7225, 86: 7396, 89: 7921, 87: 7569, 92: 8464, 95: 9025, 99: 9801, 91: 8281, 94: 8836, 96: 9216, 97: 9409, 98: 9604, 88: 7744, 90: 8100, 93: 8649}\n"
     ]
    }
   ],
   "source": [
    "\n",
    "\n",
    "def longSquare(num, results):\n",
    "    time.sleep(1)\n",
    "    results[num] = num**2\n",
    "\n",
    "results = {}\n",
    "threads = [threading.Thread(target=longSquare, args=(n, results)) for n in range(0, 100)]\n",
    "[t.start() for t in threads]\n",
    "[t.join() for t in threads]\n",
    "print(results)\n"
   ]
  },
  {
   "cell_type": "code",
   "execution_count": null,
   "id": "c63a0969",
   "metadata": {},
   "outputs": [],
   "source": []
  }
 ],
 "metadata": {
  "kernelspec": {
   "display_name": "Python 3 (ipykernel)",
   "language": "python",
   "name": "python3"
  },
  "language_info": {
   "codemirror_mode": {
    "name": "ipython",
    "version": 3
   },
   "file_extension": ".py",
   "mimetype": "text/x-python",
   "name": "python",
   "nbconvert_exporter": "python",
   "pygments_lexer": "ipython3",
   "version": "3.12.4"
  }
 },
 "nbformat": 4,
 "nbformat_minor": 5
}
